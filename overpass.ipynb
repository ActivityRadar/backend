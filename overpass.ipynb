{
 "cells": [
  {
   "cell_type": "code",
   "execution_count": null,
   "id": "59125673",
   "metadata": {},
   "outputs": [],
   "source": [
    "import overpass\n",
    "import json"
   ]
  },
  {
   "cell_type": "code",
   "execution_count": null,
   "id": "4338e645",
   "metadata": {},
   "outputs": [],
   "source": [
    "api = overpass.API(timeout=100)"
   ]
  },
  {
   "cell_type": "code",
   "execution_count": null,
   "id": "9805d878",
   "metadata": {},
   "outputs": [],
   "source": [
    "%%time\n",
    "query = \"\"\"\n",
    "    [out:json][timeout:100];\n",
    "    area[name=Berlin]->.searchHere;\n",
    "    nwr[sport](area.searchHere);\n",
    "    convert item ::id=id(),::=::,::geom=geom(),_osm_type=type();\n",
    "    out geom;\n",
    "\"\"\"\n",
    "geometries = api.get(query, build=False)\n",
    "geom_els = geometries[\"elements\"]\n",
    "\n",
    "query = \"\"\"\n",
    "    [out:json][timeout:100];\n",
    "    area[name=Berlin]->.searchHere;\n",
    "    nwr[sport](area.searchHere);\n",
    "    convert item ::id=id(),::geom=geom(); \n",
    "    out center;\n",
    "\"\"\"\n",
    "centers = api.get(query, build=False)\n",
    "center_els = centers[\"elements\"]"
   ]
  },
  {
   "cell_type": "code",
   "execution_count": null,
   "id": "1e9251b0",
   "metadata": {},
   "outputs": [],
   "source": [
    "len(geom_els), len(center_els)"
   ]
  },
  {
   "cell_type": "code",
   "execution_count": null,
   "id": "f9309d87",
   "metadata": {},
   "outputs": [],
   "source": [
    "def merge(geometries, centers):\n",
    "    \"\"\" Merge center GeoJSON data into geometries as \"center\" key \n",
    "    \n",
    "    Works inplace on the given geometries dict.\n",
    "    \"\"\"\n",
    "    \n",
    "    if centers[\"osm3s\"] != geometries[\"osm3s\"]:\n",
    "        print(\"Different timestamps! Data might not match!\")\n",
    "        return\n",
    "    gs = geometries[\"elements\"]\n",
    "    cs = centers[\"elements\"]\n",
    "    for i, c in enumerate(cs):\n",
    "        if gs[i][\"id\"] != c[\"id\"]:\n",
    "            print(f'IDs at {i=} dont match up! {gs[i][\"id\"]} != {c[\"id\"]}')\n",
    "            return\n",
    "        gs[i][\"center\"] = c[\"geometry\"]\n",
    "        \n",
    "def set_type(response):\n",
    "    for el in response[\"elements\"]:\n",
    "        if \"_osm_type\" not in el[\"tags\"].keys():\n",
    "            print(\"_osm_type Value missing!\")\n",
    "            return\n",
    "        el[\"type\"] = el[\"tags\"][\"_osm_type\"]\n",
    "        del el[\"tags\"][\"_osm_type\"]"
   ]
  },
  {
   "cell_type": "code",
   "execution_count": null,
   "id": "82df29e4",
   "metadata": {},
   "outputs": [],
   "source": [
    "merge(geometries, centers)\n",
    "set_type(geometries)"
   ]
  },
  {
   "cell_type": "code",
   "execution_count": null,
   "id": "011d2416",
   "metadata": {},
   "outputs": [],
   "source": [
    "geometries[\"elements\"][0]"
   ]
  },
  {
   "cell_type": "code",
   "execution_count": null,
   "id": "7b15f402",
   "metadata": {},
   "outputs": [],
   "source": [
    "json.dump(response, open(\"sports.json\", \"w\"))"
   ]
  }
 ],
 "metadata": {
  "kernelspec": {
   "display_name": "Python 3 (ipykernel)",
   "language": "python",
   "name": "python3"
  },
  "language_info": {
   "codemirror_mode": {
    "name": "ipython",
    "version": 3
   },
   "file_extension": ".py",
   "mimetype": "text/x-python",
   "name": "python",
   "nbconvert_exporter": "python",
   "pygments_lexer": "ipython3",
   "version": "3.11.0"
  }
 },
 "nbformat": 4,
 "nbformat_minor": 5
}
