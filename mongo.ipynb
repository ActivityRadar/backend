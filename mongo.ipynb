{
 "cells": [
  {
   "cell_type": "code",
   "execution_count": null,
   "id": "431c7b10",
   "metadata": {},
   "outputs": [],
   "source": [
    "import datetime\n",
    "from dotenv import dotenv_values\n",
    "import json\n",
    "import pprint\n",
    "\n",
    "from pymongo import MongoClient, GEO2D, GEOSPHERE\n",
    "\n",
    "config = dotenv_values(\".env\")"
   ]
  },
  {
   "cell_type": "code",
   "execution_count": null,
   "id": "d3cc42cd",
   "metadata": {},
   "outputs": [],
   "source": [
    "def get_database():\n",
    "    client = MongoClient(config[\"CONNECTION_STRING\"])\n",
    "\n",
    "    return client['test']\n",
    "\n",
    "def print_query_results(cursor):\n",
    "    pprint.pprint(list(cursor))"
   ]
  },
  {
   "cell_type": "code",
   "execution_count": null,
   "id": "eba1653b",
   "metadata": {},
   "outputs": [],
   "source": [
    "db = get_database()\n",
    "\n",
    "users = db.users\n",
    "print_query_results(users.find())    "
   ]
  },
  {
   "cell_type": "markdown",
   "id": "60100e0d",
   "metadata": {},
   "source": [
    "## Find users with trust score at least 1000"
   ]
  },
  {
   "cell_type": "code",
   "execution_count": null,
   "id": "1dece0c0",
   "metadata": {},
   "outputs": [],
   "source": [
    "cursor = users.find({\"trustScore\": {\"$gte\": 1000}})\n",
    "print_query_results(cursor)"
   ]
  },
  {
   "cell_type": "markdown",
   "id": "cf3de82b",
   "metadata": {},
   "source": [
    "## Add creation date and time to one account"
   ]
  },
  {
   "cell_type": "code",
   "execution_count": null,
   "id": "12a479a4",
   "metadata": {},
   "outputs": [],
   "source": [
    "result = users.update_one(\n",
    "    {\"username\": \"akriese\"}, \n",
    "    {\"$set\": {\"creationTime\": datetime.datetime(2023, 3, 20, 18, 1, 42)}}\n",
    ")\n",
    "result.matched_count, result.modified_count"
   ]
  },
  {
   "cell_type": "markdown",
   "id": "db7eba13",
   "metadata": {},
   "source": [
    "## Create an index"
   ]
  },
  {
   "cell_type": "code",
   "execution_count": null,
   "id": "9b5a23d1",
   "metadata": {},
   "outputs": [],
   "source": [
    "# uncomment if no index created yet\n",
    "#users.create_index([(\"lastLocation.coordinates\", GEO2D)])"
   ]
  },
  {
   "cell_type": "markdown",
   "id": "7750b18d",
   "metadata": {},
   "source": [
    "## Find objects in close distance"
   ]
  },
  {
   "cell_type": "code",
   "execution_count": null,
   "id": "058d8800",
   "metadata": {},
   "outputs": [],
   "source": [
    "from bson.son import SON\n",
    "radius = 0.01\n",
    "print(f\"With {radius=}:\")\n",
    "cursor = users.find({\"lastLocation.coordinates\": SON([(\"$near\", [15.32, 50.49]), (\"$maxDistance\", radius)])})\n",
    "print_query_results(cursor)\n",
    "\n",
    "radius = 0.1\n",
    "print(f\"With {radius=}:\")\n",
    "cursor = users.find({\"lastLocation.coordinates\": SON([(\"$near\", [15.32, 50.49]), (\"$maxDistance\", radius)])})\n",
    "print_query_results(cursor)"
   ]
  },
  {
   "cell_type": "markdown",
   "id": "3c56ea66",
   "metadata": {},
   "source": [
    "## Find objects in bounding box\n",
    "\n",
    "`\"$box\": [[long_lower_left, lat_lower_left], [long_upper_right, lat_upper_right]]`"
   ]
  },
  {
   "cell_type": "code",
   "execution_count": null,
   "id": "ad68ae9f",
   "metadata": {},
   "outputs": [],
   "source": [
    "cursor = users.find({\"lastLocation.coordinates\": {\"$within\": {\"$box\": [[15.32, 50.49], [15.37, 50.51]]}}})\n",
    "print_query_results(cursor)"
   ]
  },
  {
   "cell_type": "markdown",
   "id": "768a55a5",
   "metadata": {},
   "source": [
    "## Inserting data from OSM (overpass) into locations"
   ]
  },
  {
   "cell_type": "code",
   "execution_count": null,
   "id": "691ae153",
   "metadata": {},
   "outputs": [],
   "source": [
    "data = json.load(open(\"sports.json\", \"r\"))"
   ]
  },
  {
   "cell_type": "code",
   "execution_count": null,
   "id": "5b019703",
   "metadata": {},
   "outputs": [],
   "source": [
    "elements = data[\"elements\"]"
   ]
  },
  {
   "cell_type": "code",
   "execution_count": null,
   "id": "d13bee74",
   "metadata": {
    "scrolled": true
   },
   "outputs": [],
   "source": [
    "# look how often tags occur in the data\n",
    "from collections import Counter\n",
    "tags = []\n",
    "for el in elements:\n",
    "    for t in el[\"tags\"].keys():\n",
    "        tags.append(t)\n",
    "        \n",
    "sorted(Counter(tags).items(), key=lambda x: x[1], reverse=True)"
   ]
  },
  {
   "cell_type": "code",
   "execution_count": null,
   "id": "71aef76c",
   "metadata": {},
   "outputs": [],
   "source": [
    "import munch\n",
    "def osm_to_mongo(loc):\n",
    "    loc = munch.DefaultMunch.fromDict(loc) # easier access in nested dicts\n",
    "    coords = [loc.lon, loc.lat] if loc.center is None else [loc.center.lon, loc.center.lat]\n",
    "    d = {\n",
    "        \"activityType\": loc.tags.sport,\n",
    "        \"location\": {\n",
    "            \"type\": loc.type,\n",
    "            \"coordinates\": coords,\n",
    "        },\n",
    "        \"osmId\": loc.id,\n",
    "        \"tags\": {k: v for k, v in loc.tags.items() if k != \"sport\"},\n",
    "        \"trustScore\": 1000,\n",
    "        \"rating\": 0,\n",
    "    }\n",
    "    if loc.tags.name is not None:\n",
    "        d |= {\"title\": loc.tags.name}\n",
    "    if loc.tags.description is not None:\n",
    "        d |= {\"description\": loc.tags.description}\n",
    "    return d"
   ]
  },
  {
   "cell_type": "code",
   "execution_count": null,
   "id": "6e913c07",
   "metadata": {},
   "outputs": [],
   "source": [
    "item = osm_to_mongo(elements[0])"
   ]
  },
  {
   "cell_type": "code",
   "execution_count": null,
   "id": "044f4463",
   "metadata": {},
   "outputs": [],
   "source": [
    "locations = db.locations"
   ]
  },
  {
   "cell_type": "code",
   "execution_count": null,
   "id": "17890f5b",
   "metadata": {},
   "outputs": [],
   "source": [
    "%%time\n",
    "results = locations.insert_many([osm_to_mongo(loc) for loc in elements if loc[\"tags\"][\"sport\"] != \"table_tennis\"])"
   ]
  },
  {
   "cell_type": "code",
   "execution_count": null,
   "id": "ff379161",
   "metadata": {},
   "outputs": [],
   "source": [
    "#result = locations.delete_many({})"
   ]
  },
  {
   "cell_type": "code",
   "execution_count": null,
   "id": "a6c7e456",
   "metadata": {},
   "outputs": [],
   "source": [
    "results.inserted_ids"
   ]
  },
  {
   "cell_type": "markdown",
   "id": "474a0146",
   "metadata": {},
   "source": [
    "## Create location index"
   ]
  },
  {
   "cell_type": "code",
   "execution_count": null,
   "id": "c34b531a",
   "metadata": {},
   "outputs": [],
   "source": [
    "# uncomment if no index created yet\n",
    "#locations.create_index([(\"location.coordinates\", GEO2D)])"
   ]
  },
  {
   "cell_type": "markdown",
   "id": "c9196ecb",
   "metadata": {},
   "source": [
    "## Search locations close to one user"
   ]
  },
  {
   "cell_type": "code",
   "execution_count": null,
   "id": "3429ca67",
   "metadata": {},
   "outputs": [],
   "source": [
    "u = users.find_one({\"username\": \"akriese\"})"
   ]
  },
  {
   "cell_type": "code",
   "execution_count": null,
   "id": "7e63bd20",
   "metadata": {},
   "outputs": [],
   "source": [
    "%%time\n",
    "query = {\"location.coordinates\": {\"$within\": {\"$center\": [u[\"lastLocation\"][\"coordinates\"], 0.1]}}, \"activityType\": \"soccer\"}\n",
    "cursor = locations.find(query)\n",
    "#len(list(cursor))"
   ]
  },
  {
   "cell_type": "code",
   "execution_count": null,
   "id": "6e01e5db",
   "metadata": {},
   "outputs": [],
   "source": [
    "%%time\n",
    "for x in cursor:\n",
    "    pprint.pprint(x)"
   ]
  },
  {
   "cell_type": "markdown",
   "id": "f10fa65f",
   "metadata": {},
   "source": [
    "## Use json schema"
   ]
  },
  {
   "cell_type": "code",
   "execution_count": null,
   "id": "6b183a53",
   "metadata": {},
   "outputs": [],
   "source": [
    "user_schema = json.load(open(\"database/schemas/users.schema.json\", \"r\"))"
   ]
  },
  {
   "cell_type": "code",
   "execution_count": null,
   "id": "473f31c5",
   "metadata": {},
   "outputs": [],
   "source": [
    "print(len(list(users.find({\"$jsonSchema\": user_schema}))))"
   ]
  }
 ],
 "metadata": {
  "kernelspec": {
   "display_name": "Python 3 (ipykernel)",
   "language": "python",
   "name": "python3"
  },
  "language_info": {
   "codemirror_mode": {
    "name": "ipython",
    "version": 3
   },
   "file_extension": ".py",
   "mimetype": "text/x-python",
   "name": "python",
   "nbconvert_exporter": "python",
   "pygments_lexer": "ipython3",
   "version": "3.11.0"
  }
 },
 "nbformat": 4,
 "nbformat_minor": 5
}
